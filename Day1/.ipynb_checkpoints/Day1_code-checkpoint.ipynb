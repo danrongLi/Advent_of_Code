{
 "cells": [
  {
   "cell_type": "code",
   "execution_count": 22,
   "metadata": {
    "ExecuteTime": {
     "end_time": "2021-01-06T00:19:54.543042Z",
     "start_time": "2021-01-06T00:19:54.539404Z"
    }
   },
   "outputs": [],
   "source": [
    "import pandas as pd\n",
    "import numpy as np"
   ]
  },
  {
   "cell_type": "code",
   "execution_count": 23,
   "metadata": {
    "ExecuteTime": {
     "end_time": "2021-01-06T00:19:55.027751Z",
     "start_time": "2021-01-06T00:19:55.010416Z"
    }
   },
   "outputs": [],
   "source": [
    "raw_data=pd.read_excel('Day1_data.xlsx')"
   ]
  },
  {
   "cell_type": "code",
   "execution_count": 24,
   "metadata": {
    "ExecuteTime": {
     "end_time": "2021-01-06T00:19:55.510552Z",
     "start_time": "2021-01-06T00:19:55.506359Z"
    }
   },
   "outputs": [],
   "source": [
    "data=raw_data.values.flatten()"
   ]
  },
  {
   "cell_type": "code",
   "execution_count": 25,
   "metadata": {
    "ExecuteTime": {
     "end_time": "2021-01-06T00:19:59.406480Z",
     "start_time": "2021-01-06T00:19:59.399328Z"
    }
   },
   "outputs": [
    {
     "data": {
      "text/plain": [
       "array([1028, 1987, 1938, 1136, 1503, 1456, 1107, 1535, 1946, 1986,  855,\n",
       "       1587, 1632, 1548, 1384, 1894, 1092, 1876, 1914, 1974, 1662, 1608,\n",
       "       2004, 1464, 1557, 1485, 1267, 1582, 1307, 1903, 1102, 1578, 1421,\n",
       "       1184, 1290, 1786, 1295, 1930, 1131, 1802, 1685, 1735, 1498, 1052,\n",
       "       1688,  990, 1805, 1768, 1922, 1781, 1897, 1545, 1591, 1393, 1186,\n",
       "        149, 1619, 1813, 1708, 1119, 1214, 1705, 1942, 1684, 1460, 1123,\n",
       "       1439, 1672, 1980, 1337, 1731, 1203, 1481, 2009, 1110, 1116, 1443,\n",
       "       1957, 1891, 1595, 1951, 1883, 1733, 1697, 1321, 1689, 1103, 1300,\n",
       "       1262, 1190, 1667, 1843, 1544, 1877, 1718, 1866, 1929, 1169, 1693,\n",
       "       1518, 1375, 1477, 1222, 1791, 1612, 1373, 1253, 1087, 1959, 1970,\n",
       "       1112, 1778, 1412, 1127, 1767, 1091, 1653, 1609, 1810, 1912, 1917,\n",
       "        935, 1499, 1878, 1452, 1935, 1937,  968, 1905, 1077, 1701, 1789,\n",
       "       1506, 1451, 1125, 1686, 1117, 1991, 1215, 1776, 1976,  846, 1923,\n",
       "       1945, 1888, 1193, 1146, 1583, 1315, 1372, 1963, 1491, 1777, 1799,\n",
       "       1363, 1579, 1367, 1863, 1983, 1679, 1944, 1654, 1953, 1297,  530,\n",
       "       1502, 1738, 1934, 1185, 1998, 1764, 1856, 1207, 1181, 1494, 1676,\n",
       "       1900, 1057,  339, 1994, 2006, 1536, 2007,  644, 1173, 1692, 1493,\n",
       "       1756, 1916, 1890, 1908, 1887, 1241, 1447, 1997, 1967, 1098, 1287,\n",
       "       1392, 1932])"
      ]
     },
     "execution_count": 25,
     "metadata": {},
     "output_type": "execute_result"
    }
   ],
   "source": [
    "data"
   ]
  },
  {
   "cell_type": "code",
   "execution_count": 27,
   "metadata": {
    "ExecuteTime": {
     "end_time": "2021-01-06T00:22:01.932307Z",
     "start_time": "2021-01-06T00:22:01.909564Z"
    }
   },
   "outputs": [
    {
     "name": "stdout",
     "output_type": "stream",
     "text": [
      "1052 968 1018336\n"
     ]
    }
   ],
   "source": [
    "for i in range(len(data)):\n",
    "    for j in range(i+1,len(data)):\n",
    "        if data[i]+data[j]==2020:\n",
    "            print(data[i],data[j],data[i]*data[j])"
   ]
  },
  {
   "cell_type": "code",
   "execution_count": 28,
   "metadata": {
    "ExecuteTime": {
     "end_time": "2021-01-06T00:24:25.954910Z",
     "start_time": "2021-01-06T00:24:24.015806Z"
    }
   },
   "outputs": [
    {
     "name": "stdout",
     "output_type": "stream",
     "text": [
      "846 530 644 288756720\n",
      "846 644 530 288756720\n"
     ]
    }
   ],
   "source": [
    "for i in range(len(data)):\n",
    "    for j in range(i+1,len(data)):\n",
    "        for k in range(i+2,len(data)):\n",
    "            if data[i]+data[j]+data[k]==2020:\n",
    "                print(data[i],data[j],data[k],data[i]*data[j]*data[k])"
   ]
  },
  {
   "cell_type": "code",
   "execution_count": null,
   "metadata": {},
   "outputs": [],
   "source": []
  }
 ],
 "metadata": {
  "kernelspec": {
   "display_name": "Python 3",
   "language": "python",
   "name": "python3"
  },
  "language_info": {
   "codemirror_mode": {
    "name": "ipython",
    "version": 3
   },
   "file_extension": ".py",
   "mimetype": "text/x-python",
   "name": "python",
   "nbconvert_exporter": "python",
   "pygments_lexer": "ipython3",
   "version": "3.7.4"
  }
 },
 "nbformat": 4,
 "nbformat_minor": 2
}
