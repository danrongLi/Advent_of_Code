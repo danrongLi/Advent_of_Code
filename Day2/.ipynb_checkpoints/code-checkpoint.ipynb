{
 "cells": [
  {
   "cell_type": "code",
   "execution_count": 26,
   "metadata": {
    "ExecuteTime": {
     "end_time": "2021-01-06T00:33:39.981700Z",
     "start_time": "2021-01-06T00:33:39.978070Z"
    }
   },
   "outputs": [],
   "source": [
    "import pandas as pd"
   ]
  },
  {
   "cell_type": "code",
   "execution_count": 27,
   "metadata": {
    "ExecuteTime": {
     "end_time": "2021-01-06T00:33:40.381497Z",
     "start_time": "2021-01-06T00:33:40.376889Z"
    }
   },
   "outputs": [],
   "source": [
    "f = open(\"passwords.txt\", \"r\")"
   ]
  },
  {
   "cell_type": "code",
   "execution_count": 28,
   "metadata": {
    "ExecuteTime": {
     "end_time": "2021-01-06T00:33:40.834031Z",
     "start_time": "2021-01-06T00:33:40.829540Z"
    }
   },
   "outputs": [],
   "source": [
    "data=f.read()"
   ]
  },
  {
   "cell_type": "code",
   "execution_count": 35,
   "metadata": {
    "ExecuteTime": {
     "end_time": "2021-01-06T00:34:59.988080Z",
     "start_time": "2021-01-06T00:34:59.983975Z"
    }
   },
   "outputs": [],
   "source": [
    "splitted_data=data.split(\"\\n\")"
   ]
  },
  {
   "cell_type": "code",
   "execution_count": 41,
   "metadata": {
    "ExecuteTime": {
     "end_time": "2021-01-06T00:36:28.210533Z",
     "start_time": "2021-01-06T00:36:28.204543Z"
    }
   },
   "outputs": [
    {
     "data": {
      "text/plain": [
       "'15-16 l: klfbblslvjclmlnqklvg'"
      ]
     },
     "execution_count": 41,
     "metadata": {},
     "output_type": "execute_result"
    }
   ],
   "source": [
    "splitted_data[0]"
   ]
  },
  {
   "cell_type": "code",
   "execution_count": 39,
   "metadata": {
    "ExecuteTime": {
     "end_time": "2021-01-06T00:36:15.027508Z",
     "start_time": "2021-01-06T00:36:15.020945Z"
    }
   },
   "outputs": [
    {
     "data": {
      "text/plain": [
       "['15-16 l', 'klfbblslvjclmlnqklvg']"
      ]
     },
     "execution_count": 39,
     "metadata": {},
     "output_type": "execute_result"
    }
   ],
   "source": [
    "'15-16 l: klfbblslvjclmlnqklvg'.split(\": \")"
   ]
  },
  {
   "cell_type": "code",
   "execution_count": 57,
   "metadata": {
    "ExecuteTime": {
     "end_time": "2021-01-06T00:41:16.564805Z",
     "start_time": "2021-01-06T00:41:16.555346Z"
    }
   },
   "outputs": [],
   "source": [
    "data_df=pd.DataFrame(splitted_data).iloc[:-1,-1].str.split(expand=True)"
   ]
  },
  {
   "cell_type": "code",
   "execution_count": 65,
   "metadata": {
    "ExecuteTime": {
     "end_time": "2021-01-06T00:44:49.071904Z",
     "start_time": "2021-01-06T00:44:49.065906Z"
    }
   },
   "outputs": [
    {
     "data": {
      "text/plain": [
       "6"
      ]
     },
     "execution_count": 65,
     "metadata": {},
     "output_type": "execute_result"
    }
   ],
   "source": [
    "data_df[2].values[0].count('l')"
   ]
  },
  {
   "cell_type": "code",
   "execution_count": 64,
   "metadata": {
    "ExecuteTime": {
     "end_time": "2021-01-06T00:44:41.419255Z",
     "start_time": "2021-01-06T00:44:41.412971Z"
    }
   },
   "outputs": [
    {
     "data": {
      "text/plain": [
       "'klfbblslvjclmlnqklvg'"
      ]
     },
     "execution_count": 64,
     "metadata": {},
     "output_type": "execute_result"
    }
   ],
   "source": [
    "data_df[2].values[0]"
   ]
  },
  {
   "cell_type": "code",
   "execution_count": 86,
   "metadata": {
    "ExecuteTime": {
     "end_time": "2021-01-06T00:52:21.995384Z",
     "start_time": "2021-01-06T00:52:21.990442Z"
    }
   },
   "outputs": [],
   "source": [
    "mini_maxi=data_df[0].str.split('-',expand=True)"
   ]
  },
  {
   "cell_type": "code",
   "execution_count": 91,
   "metadata": {
    "ExecuteTime": {
     "end_time": "2021-01-06T00:53:33.708447Z",
     "start_time": "2021-01-06T00:53:33.703001Z"
    }
   },
   "outputs": [],
   "source": [
    "mini_maxi=mini_maxi.rename(columns={0: \"mini\", 1: \"maxi\"})"
   ]
  },
  {
   "cell_type": "code",
   "execution_count": 92,
   "metadata": {
    "ExecuteTime": {
     "end_time": "2021-01-06T00:53:44.616356Z",
     "start_time": "2021-01-06T00:53:44.610764Z"
    }
   },
   "outputs": [],
   "source": [
    "concat_data=pd.concat((data_df,mini_maxi),axis=1)"
   ]
  },
  {
   "cell_type": "code",
   "execution_count": 93,
   "metadata": {
    "ExecuteTime": {
     "end_time": "2021-01-06T00:53:50.676168Z",
     "start_time": "2021-01-06T00:53:50.668032Z"
    }
   },
   "outputs": [],
   "source": [
    "concat_data=concat_data.rename(columns={0: \"range\", 1: \"letter\",2:\"string\"})"
   ]
  },
  {
   "cell_type": "code",
   "execution_count": 94,
   "metadata": {
    "ExecuteTime": {
     "end_time": "2021-01-06T00:53:52.049171Z",
     "start_time": "2021-01-06T00:53:52.034907Z"
    }
   },
   "outputs": [
    {
     "data": {
      "text/html": [
       "<div>\n",
       "<style scoped>\n",
       "    .dataframe tbody tr th:only-of-type {\n",
       "        vertical-align: middle;\n",
       "    }\n",
       "\n",
       "    .dataframe tbody tr th {\n",
       "        vertical-align: top;\n",
       "    }\n",
       "\n",
       "    .dataframe thead th {\n",
       "        text-align: right;\n",
       "    }\n",
       "</style>\n",
       "<table border=\"1\" class=\"dataframe\">\n",
       "  <thead>\n",
       "    <tr style=\"text-align: right;\">\n",
       "      <th></th>\n",
       "      <th>range</th>\n",
       "      <th>letter</th>\n",
       "      <th>string</th>\n",
       "      <th>mini</th>\n",
       "      <th>maxi</th>\n",
       "    </tr>\n",
       "  </thead>\n",
       "  <tbody>\n",
       "    <tr>\n",
       "      <td>0</td>\n",
       "      <td>15-16</td>\n",
       "      <td>l:</td>\n",
       "      <td>klfbblslvjclmlnqklvg</td>\n",
       "      <td>15</td>\n",
       "      <td>16</td>\n",
       "    </tr>\n",
       "    <tr>\n",
       "      <td>1</td>\n",
       "      <td>6-13</td>\n",
       "      <td>h:</td>\n",
       "      <td>pghjchdxhnjhjd</td>\n",
       "      <td>6</td>\n",
       "      <td>13</td>\n",
       "    </tr>\n",
       "    <tr>\n",
       "      <td>2</td>\n",
       "      <td>4-13</td>\n",
       "      <td>n:</td>\n",
       "      <td>nnznntzznqnzbtzj</td>\n",
       "      <td>4</td>\n",
       "      <td>13</td>\n",
       "    </tr>\n",
       "    <tr>\n",
       "      <td>3</td>\n",
       "      <td>10-16</td>\n",
       "      <td>r:</td>\n",
       "      <td>nrrrrkrjtxwrrrwx</td>\n",
       "      <td>10</td>\n",
       "      <td>16</td>\n",
       "    </tr>\n",
       "    <tr>\n",
       "      <td>4</td>\n",
       "      <td>1-6</td>\n",
       "      <td>t:</td>\n",
       "      <td>rttftttttttttmdttttt</td>\n",
       "      <td>1</td>\n",
       "      <td>6</td>\n",
       "    </tr>\n",
       "    <tr>\n",
       "      <td>...</td>\n",
       "      <td>...</td>\n",
       "      <td>...</td>\n",
       "      <td>...</td>\n",
       "      <td>...</td>\n",
       "      <td>...</td>\n",
       "    </tr>\n",
       "    <tr>\n",
       "      <td>995</td>\n",
       "      <td>8-12</td>\n",
       "      <td>r:</td>\n",
       "      <td>rrkrrrprvrcqnr</td>\n",
       "      <td>8</td>\n",
       "      <td>12</td>\n",
       "    </tr>\n",
       "    <tr>\n",
       "      <td>996</td>\n",
       "      <td>14-15</td>\n",
       "      <td>j:</td>\n",
       "      <td>jkpjjnjjjwjjjjjjhjwj</td>\n",
       "      <td>14</td>\n",
       "      <td>15</td>\n",
       "    </tr>\n",
       "    <tr>\n",
       "      <td>997</td>\n",
       "      <td>7-9</td>\n",
       "      <td>s:</td>\n",
       "      <td>stsstspsn</td>\n",
       "      <td>7</td>\n",
       "      <td>9</td>\n",
       "    </tr>\n",
       "    <tr>\n",
       "      <td>998</td>\n",
       "      <td>8-11</td>\n",
       "      <td>h:</td>\n",
       "      <td>hhhhbhhhhjhhhh</td>\n",
       "      <td>8</td>\n",
       "      <td>11</td>\n",
       "    </tr>\n",
       "    <tr>\n",
       "      <td>999</td>\n",
       "      <td>5-6</td>\n",
       "      <td>d:</td>\n",
       "      <td>dddtpdd</td>\n",
       "      <td>5</td>\n",
       "      <td>6</td>\n",
       "    </tr>\n",
       "  </tbody>\n",
       "</table>\n",
       "<p>1000 rows × 5 columns</p>\n",
       "</div>"
      ],
      "text/plain": [
       "     range letter                string mini maxi\n",
       "0    15-16     l:  klfbblslvjclmlnqklvg   15   16\n",
       "1     6-13     h:        pghjchdxhnjhjd    6   13\n",
       "2     4-13     n:      nnznntzznqnzbtzj    4   13\n",
       "3    10-16     r:      nrrrrkrjtxwrrrwx   10   16\n",
       "4      1-6     t:  rttftttttttttmdttttt    1    6\n",
       "..     ...    ...                   ...  ...  ...\n",
       "995   8-12     r:        rrkrrrprvrcqnr    8   12\n",
       "996  14-15     j:  jkpjjnjjjwjjjjjjhjwj   14   15\n",
       "997    7-9     s:             stsstspsn    7    9\n",
       "998   8-11     h:        hhhhbhhhhjhhhh    8   11\n",
       "999    5-6     d:               dddtpdd    5    6\n",
       "\n",
       "[1000 rows x 5 columns]"
      ]
     },
     "execution_count": 94,
     "metadata": {},
     "output_type": "execute_result"
    }
   ],
   "source": [
    "concat_data"
   ]
  },
  {
   "cell_type": "code",
   "execution_count": 98,
   "metadata": {
    "ExecuteTime": {
     "end_time": "2021-01-06T00:54:41.481635Z",
     "start_time": "2021-01-06T00:54:41.470982Z"
    }
   },
   "outputs": [],
   "source": [
    "concat_data['letter']=concat_data['letter'].apply(lambda x: x[0])"
   ]
  },
  {
   "cell_type": "code",
   "execution_count": 99,
   "metadata": {
    "ExecuteTime": {
     "end_time": "2021-01-06T00:54:45.354449Z",
     "start_time": "2021-01-06T00:54:45.339963Z"
    }
   },
   "outputs": [
    {
     "data": {
      "text/html": [
       "<div>\n",
       "<style scoped>\n",
       "    .dataframe tbody tr th:only-of-type {\n",
       "        vertical-align: middle;\n",
       "    }\n",
       "\n",
       "    .dataframe tbody tr th {\n",
       "        vertical-align: top;\n",
       "    }\n",
       "\n",
       "    .dataframe thead th {\n",
       "        text-align: right;\n",
       "    }\n",
       "</style>\n",
       "<table border=\"1\" class=\"dataframe\">\n",
       "  <thead>\n",
       "    <tr style=\"text-align: right;\">\n",
       "      <th></th>\n",
       "      <th>range</th>\n",
       "      <th>letter</th>\n",
       "      <th>string</th>\n",
       "      <th>mini</th>\n",
       "      <th>maxi</th>\n",
       "    </tr>\n",
       "  </thead>\n",
       "  <tbody>\n",
       "    <tr>\n",
       "      <td>0</td>\n",
       "      <td>15-16</td>\n",
       "      <td>l</td>\n",
       "      <td>klfbblslvjclmlnqklvg</td>\n",
       "      <td>15</td>\n",
       "      <td>16</td>\n",
       "    </tr>\n",
       "    <tr>\n",
       "      <td>1</td>\n",
       "      <td>6-13</td>\n",
       "      <td>h</td>\n",
       "      <td>pghjchdxhnjhjd</td>\n",
       "      <td>6</td>\n",
       "      <td>13</td>\n",
       "    </tr>\n",
       "    <tr>\n",
       "      <td>2</td>\n",
       "      <td>4-13</td>\n",
       "      <td>n</td>\n",
       "      <td>nnznntzznqnzbtzj</td>\n",
       "      <td>4</td>\n",
       "      <td>13</td>\n",
       "    </tr>\n",
       "    <tr>\n",
       "      <td>3</td>\n",
       "      <td>10-16</td>\n",
       "      <td>r</td>\n",
       "      <td>nrrrrkrjtxwrrrwx</td>\n",
       "      <td>10</td>\n",
       "      <td>16</td>\n",
       "    </tr>\n",
       "    <tr>\n",
       "      <td>4</td>\n",
       "      <td>1-6</td>\n",
       "      <td>t</td>\n",
       "      <td>rttftttttttttmdttttt</td>\n",
       "      <td>1</td>\n",
       "      <td>6</td>\n",
       "    </tr>\n",
       "    <tr>\n",
       "      <td>...</td>\n",
       "      <td>...</td>\n",
       "      <td>...</td>\n",
       "      <td>...</td>\n",
       "      <td>...</td>\n",
       "      <td>...</td>\n",
       "    </tr>\n",
       "    <tr>\n",
       "      <td>995</td>\n",
       "      <td>8-12</td>\n",
       "      <td>r</td>\n",
       "      <td>rrkrrrprvrcqnr</td>\n",
       "      <td>8</td>\n",
       "      <td>12</td>\n",
       "    </tr>\n",
       "    <tr>\n",
       "      <td>996</td>\n",
       "      <td>14-15</td>\n",
       "      <td>j</td>\n",
       "      <td>jkpjjnjjjwjjjjjjhjwj</td>\n",
       "      <td>14</td>\n",
       "      <td>15</td>\n",
       "    </tr>\n",
       "    <tr>\n",
       "      <td>997</td>\n",
       "      <td>7-9</td>\n",
       "      <td>s</td>\n",
       "      <td>stsstspsn</td>\n",
       "      <td>7</td>\n",
       "      <td>9</td>\n",
       "    </tr>\n",
       "    <tr>\n",
       "      <td>998</td>\n",
       "      <td>8-11</td>\n",
       "      <td>h</td>\n",
       "      <td>hhhhbhhhhjhhhh</td>\n",
       "      <td>8</td>\n",
       "      <td>11</td>\n",
       "    </tr>\n",
       "    <tr>\n",
       "      <td>999</td>\n",
       "      <td>5-6</td>\n",
       "      <td>d</td>\n",
       "      <td>dddtpdd</td>\n",
       "      <td>5</td>\n",
       "      <td>6</td>\n",
       "    </tr>\n",
       "  </tbody>\n",
       "</table>\n",
       "<p>1000 rows × 5 columns</p>\n",
       "</div>"
      ],
      "text/plain": [
       "     range letter                string mini maxi\n",
       "0    15-16      l  klfbblslvjclmlnqklvg   15   16\n",
       "1     6-13      h        pghjchdxhnjhjd    6   13\n",
       "2     4-13      n      nnznntzznqnzbtzj    4   13\n",
       "3    10-16      r      nrrrrkrjtxwrrrwx   10   16\n",
       "4      1-6      t  rttftttttttttmdttttt    1    6\n",
       "..     ...    ...                   ...  ...  ...\n",
       "995   8-12      r        rrkrrrprvrcqnr    8   12\n",
       "996  14-15      j  jkpjjnjjjwjjjjjjhjwj   14   15\n",
       "997    7-9      s             stsstspsn    7    9\n",
       "998   8-11      h        hhhhbhhhhjhhhh    8   11\n",
       "999    5-6      d               dddtpdd    5    6\n",
       "\n",
       "[1000 rows x 5 columns]"
      ]
     },
     "execution_count": 99,
     "metadata": {},
     "output_type": "execute_result"
    }
   ],
   "source": [
    "concat_data"
   ]
  },
  {
   "cell_type": "code",
   "execution_count": 114,
   "metadata": {
    "ExecuteTime": {
     "end_time": "2021-01-06T01:02:21.412295Z",
     "start_time": "2021-01-06T01:02:21.405654Z"
    }
   },
   "outputs": [
    {
     "data": {
      "text/plain": [
       "5"
      ]
     },
     "execution_count": 114,
     "metadata": {},
     "output_type": "execute_result"
    }
   ],
   "source": [
    "concat_data['string'].values[-1].count(concat_data['letter'].values[-1])"
   ]
  },
  {
   "cell_type": "code",
   "execution_count": 122,
   "metadata": {
    "ExecuteTime": {
     "end_time": "2021-01-06T01:04:13.099294Z",
     "start_time": "2021-01-06T01:04:13.092858Z"
    }
   },
   "outputs": [
    {
     "data": {
      "text/plain": [
       "Index(['range', 'letter', 'string', 'mini', 'maxi'], dtype='object')"
      ]
     },
     "execution_count": 122,
     "metadata": {},
     "output_type": "execute_result"
    }
   ],
   "source": [
    "concat_data.columns"
   ]
  },
  {
   "cell_type": "code",
   "execution_count": 139,
   "metadata": {
    "ExecuteTime": {
     "end_time": "2021-01-06T01:08:12.875007Z",
     "start_time": "2021-01-06T01:08:12.844122Z"
    }
   },
   "outputs": [],
   "source": [
    "concat_data['count']=concat_data.apply(lambda x: x['string'].count(x['letter']),axis=1)"
   ]
  },
  {
   "cell_type": "code",
   "execution_count": 140,
   "metadata": {
    "ExecuteTime": {
     "end_time": "2021-01-06T01:08:17.181967Z",
     "start_time": "2021-01-06T01:08:17.166652Z"
    }
   },
   "outputs": [
    {
     "data": {
      "text/html": [
       "<div>\n",
       "<style scoped>\n",
       "    .dataframe tbody tr th:only-of-type {\n",
       "        vertical-align: middle;\n",
       "    }\n",
       "\n",
       "    .dataframe tbody tr th {\n",
       "        vertical-align: top;\n",
       "    }\n",
       "\n",
       "    .dataframe thead th {\n",
       "        text-align: right;\n",
       "    }\n",
       "</style>\n",
       "<table border=\"1\" class=\"dataframe\">\n",
       "  <thead>\n",
       "    <tr style=\"text-align: right;\">\n",
       "      <th></th>\n",
       "      <th>range</th>\n",
       "      <th>letter</th>\n",
       "      <th>string</th>\n",
       "      <th>mini</th>\n",
       "      <th>maxi</th>\n",
       "      <th>count</th>\n",
       "    </tr>\n",
       "  </thead>\n",
       "  <tbody>\n",
       "    <tr>\n",
       "      <td>0</td>\n",
       "      <td>15-16</td>\n",
       "      <td>l</td>\n",
       "      <td>klfbblslvjclmlnqklvg</td>\n",
       "      <td>15</td>\n",
       "      <td>16</td>\n",
       "      <td>6</td>\n",
       "    </tr>\n",
       "    <tr>\n",
       "      <td>1</td>\n",
       "      <td>6-13</td>\n",
       "      <td>h</td>\n",
       "      <td>pghjchdxhnjhjd</td>\n",
       "      <td>6</td>\n",
       "      <td>13</td>\n",
       "      <td>4</td>\n",
       "    </tr>\n",
       "    <tr>\n",
       "      <td>2</td>\n",
       "      <td>4-13</td>\n",
       "      <td>n</td>\n",
       "      <td>nnznntzznqnzbtzj</td>\n",
       "      <td>4</td>\n",
       "      <td>13</td>\n",
       "      <td>6</td>\n",
       "    </tr>\n",
       "    <tr>\n",
       "      <td>3</td>\n",
       "      <td>10-16</td>\n",
       "      <td>r</td>\n",
       "      <td>nrrrrkrjtxwrrrwx</td>\n",
       "      <td>10</td>\n",
       "      <td>16</td>\n",
       "      <td>8</td>\n",
       "    </tr>\n",
       "    <tr>\n",
       "      <td>4</td>\n",
       "      <td>1-6</td>\n",
       "      <td>t</td>\n",
       "      <td>rttftttttttttmdttttt</td>\n",
       "      <td>1</td>\n",
       "      <td>6</td>\n",
       "      <td>16</td>\n",
       "    </tr>\n",
       "    <tr>\n",
       "      <td>...</td>\n",
       "      <td>...</td>\n",
       "      <td>...</td>\n",
       "      <td>...</td>\n",
       "      <td>...</td>\n",
       "      <td>...</td>\n",
       "      <td>...</td>\n",
       "    </tr>\n",
       "    <tr>\n",
       "      <td>995</td>\n",
       "      <td>8-12</td>\n",
       "      <td>r</td>\n",
       "      <td>rrkrrrprvrcqnr</td>\n",
       "      <td>8</td>\n",
       "      <td>12</td>\n",
       "      <td>8</td>\n",
       "    </tr>\n",
       "    <tr>\n",
       "      <td>996</td>\n",
       "      <td>14-15</td>\n",
       "      <td>j</td>\n",
       "      <td>jkpjjnjjjwjjjjjjhjwj</td>\n",
       "      <td>14</td>\n",
       "      <td>15</td>\n",
       "      <td>14</td>\n",
       "    </tr>\n",
       "    <tr>\n",
       "      <td>997</td>\n",
       "      <td>7-9</td>\n",
       "      <td>s</td>\n",
       "      <td>stsstspsn</td>\n",
       "      <td>7</td>\n",
       "      <td>9</td>\n",
       "      <td>5</td>\n",
       "    </tr>\n",
       "    <tr>\n",
       "      <td>998</td>\n",
       "      <td>8-11</td>\n",
       "      <td>h</td>\n",
       "      <td>hhhhbhhhhjhhhh</td>\n",
       "      <td>8</td>\n",
       "      <td>11</td>\n",
       "      <td>12</td>\n",
       "    </tr>\n",
       "    <tr>\n",
       "      <td>999</td>\n",
       "      <td>5-6</td>\n",
       "      <td>d</td>\n",
       "      <td>dddtpdd</td>\n",
       "      <td>5</td>\n",
       "      <td>6</td>\n",
       "      <td>5</td>\n",
       "    </tr>\n",
       "  </tbody>\n",
       "</table>\n",
       "<p>1000 rows × 6 columns</p>\n",
       "</div>"
      ],
      "text/plain": [
       "     range letter                string mini maxi  count\n",
       "0    15-16      l  klfbblslvjclmlnqklvg   15   16      6\n",
       "1     6-13      h        pghjchdxhnjhjd    6   13      4\n",
       "2     4-13      n      nnznntzznqnzbtzj    4   13      6\n",
       "3    10-16      r      nrrrrkrjtxwrrrwx   10   16      8\n",
       "4      1-6      t  rttftttttttttmdttttt    1    6     16\n",
       "..     ...    ...                   ...  ...  ...    ...\n",
       "995   8-12      r        rrkrrrprvrcqnr    8   12      8\n",
       "996  14-15      j  jkpjjnjjjwjjjjjjhjwj   14   15     14\n",
       "997    7-9      s             stsstspsn    7    9      5\n",
       "998   8-11      h        hhhhbhhhhjhhhh    8   11     12\n",
       "999    5-6      d               dddtpdd    5    6      5\n",
       "\n",
       "[1000 rows x 6 columns]"
      ]
     },
     "execution_count": 140,
     "metadata": {},
     "output_type": "execute_result"
    }
   ],
   "source": [
    "concat_data"
   ]
  },
  {
   "cell_type": "code",
   "execution_count": 142,
   "metadata": {
    "ExecuteTime": {
     "end_time": "2021-01-06T01:09:56.996506Z",
     "start_time": "2021-01-06T01:09:56.953108Z"
    }
   },
   "outputs": [],
   "source": [
    "concat_data['valid']=concat_data.apply(lambda x: (x['count']>=int(x['mini']))&(x['count']<=int(x['maxi'])),axis=1)"
   ]
  },
  {
   "cell_type": "code",
   "execution_count": 144,
   "metadata": {
    "ExecuteTime": {
     "end_time": "2021-01-06T01:10:15.320442Z",
     "start_time": "2021-01-06T01:10:15.312764Z"
    }
   },
   "outputs": [
    {
     "data": {
      "text/plain": [
       "424"
      ]
     },
     "execution_count": 144,
     "metadata": {},
     "output_type": "execute_result"
    }
   ],
   "source": [
    "concat_data['valid'].sum()"
   ]
  },
  {
   "cell_type": "code",
   "execution_count": 145,
   "metadata": {
    "ExecuteTime": {
     "end_time": "2021-01-06T01:11:55.548429Z",
     "start_time": "2021-01-06T01:11:55.543876Z"
    }
   },
   "outputs": [],
   "source": [
    "another_data=concat_data.copy()"
   ]
  },
  {
   "cell_type": "code",
   "execution_count": 147,
   "metadata": {
    "ExecuteTime": {
     "end_time": "2021-01-06T01:12:27.386634Z",
     "start_time": "2021-01-06T01:12:27.381169Z"
    }
   },
   "outputs": [],
   "source": [
    "another_data=another_data.iloc[:,:-2]"
   ]
  },
  {
   "cell_type": "code",
   "execution_count": 150,
   "metadata": {
    "ExecuteTime": {
     "end_time": "2021-01-06T01:13:22.492809Z",
     "start_time": "2021-01-06T01:13:22.486933Z"
    }
   },
   "outputs": [],
   "source": [
    "another_data=another_data.rename(columns={\"mini\": \"has\", \"maxi\": \"not\"})"
   ]
  },
  {
   "cell_type": "code",
   "execution_count": 151,
   "metadata": {
    "ExecuteTime": {
     "end_time": "2021-01-06T01:13:26.235151Z",
     "start_time": "2021-01-06T01:13:26.220866Z"
    }
   },
   "outputs": [
    {
     "data": {
      "text/html": [
       "<div>\n",
       "<style scoped>\n",
       "    .dataframe tbody tr th:only-of-type {\n",
       "        vertical-align: middle;\n",
       "    }\n",
       "\n",
       "    .dataframe tbody tr th {\n",
       "        vertical-align: top;\n",
       "    }\n",
       "\n",
       "    .dataframe thead th {\n",
       "        text-align: right;\n",
       "    }\n",
       "</style>\n",
       "<table border=\"1\" class=\"dataframe\">\n",
       "  <thead>\n",
       "    <tr style=\"text-align: right;\">\n",
       "      <th></th>\n",
       "      <th>range</th>\n",
       "      <th>letter</th>\n",
       "      <th>string</th>\n",
       "      <th>has</th>\n",
       "      <th>not</th>\n",
       "    </tr>\n",
       "  </thead>\n",
       "  <tbody>\n",
       "    <tr>\n",
       "      <td>0</td>\n",
       "      <td>15-16</td>\n",
       "      <td>l</td>\n",
       "      <td>klfbblslvjclmlnqklvg</td>\n",
       "      <td>15</td>\n",
       "      <td>16</td>\n",
       "    </tr>\n",
       "    <tr>\n",
       "      <td>1</td>\n",
       "      <td>6-13</td>\n",
       "      <td>h</td>\n",
       "      <td>pghjchdxhnjhjd</td>\n",
       "      <td>6</td>\n",
       "      <td>13</td>\n",
       "    </tr>\n",
       "    <tr>\n",
       "      <td>2</td>\n",
       "      <td>4-13</td>\n",
       "      <td>n</td>\n",
       "      <td>nnznntzznqnzbtzj</td>\n",
       "      <td>4</td>\n",
       "      <td>13</td>\n",
       "    </tr>\n",
       "    <tr>\n",
       "      <td>3</td>\n",
       "      <td>10-16</td>\n",
       "      <td>r</td>\n",
       "      <td>nrrrrkrjtxwrrrwx</td>\n",
       "      <td>10</td>\n",
       "      <td>16</td>\n",
       "    </tr>\n",
       "    <tr>\n",
       "      <td>4</td>\n",
       "      <td>1-6</td>\n",
       "      <td>t</td>\n",
       "      <td>rttftttttttttmdttttt</td>\n",
       "      <td>1</td>\n",
       "      <td>6</td>\n",
       "    </tr>\n",
       "    <tr>\n",
       "      <td>...</td>\n",
       "      <td>...</td>\n",
       "      <td>...</td>\n",
       "      <td>...</td>\n",
       "      <td>...</td>\n",
       "      <td>...</td>\n",
       "    </tr>\n",
       "    <tr>\n",
       "      <td>995</td>\n",
       "      <td>8-12</td>\n",
       "      <td>r</td>\n",
       "      <td>rrkrrrprvrcqnr</td>\n",
       "      <td>8</td>\n",
       "      <td>12</td>\n",
       "    </tr>\n",
       "    <tr>\n",
       "      <td>996</td>\n",
       "      <td>14-15</td>\n",
       "      <td>j</td>\n",
       "      <td>jkpjjnjjjwjjjjjjhjwj</td>\n",
       "      <td>14</td>\n",
       "      <td>15</td>\n",
       "    </tr>\n",
       "    <tr>\n",
       "      <td>997</td>\n",
       "      <td>7-9</td>\n",
       "      <td>s</td>\n",
       "      <td>stsstspsn</td>\n",
       "      <td>7</td>\n",
       "      <td>9</td>\n",
       "    </tr>\n",
       "    <tr>\n",
       "      <td>998</td>\n",
       "      <td>8-11</td>\n",
       "      <td>h</td>\n",
       "      <td>hhhhbhhhhjhhhh</td>\n",
       "      <td>8</td>\n",
       "      <td>11</td>\n",
       "    </tr>\n",
       "    <tr>\n",
       "      <td>999</td>\n",
       "      <td>5-6</td>\n",
       "      <td>d</td>\n",
       "      <td>dddtpdd</td>\n",
       "      <td>5</td>\n",
       "      <td>6</td>\n",
       "    </tr>\n",
       "  </tbody>\n",
       "</table>\n",
       "<p>1000 rows × 5 columns</p>\n",
       "</div>"
      ],
      "text/plain": [
       "     range letter                string has not\n",
       "0    15-16      l  klfbblslvjclmlnqklvg  15  16\n",
       "1     6-13      h        pghjchdxhnjhjd   6  13\n",
       "2     4-13      n      nnznntzznqnzbtzj   4  13\n",
       "3    10-16      r      nrrrrkrjtxwrrrwx  10  16\n",
       "4      1-6      t  rttftttttttttmdttttt   1   6\n",
       "..     ...    ...                   ...  ..  ..\n",
       "995   8-12      r        rrkrrrprvrcqnr   8  12\n",
       "996  14-15      j  jkpjjnjjjwjjjjjjhjwj  14  15\n",
       "997    7-9      s             stsstspsn   7   9\n",
       "998   8-11      h        hhhhbhhhhjhhhh   8  11\n",
       "999    5-6      d               dddtpdd   5   6\n",
       "\n",
       "[1000 rows x 5 columns]"
      ]
     },
     "execution_count": 151,
     "metadata": {},
     "output_type": "execute_result"
    }
   ],
   "source": [
    "another_data"
   ]
  },
  {
   "cell_type": "code",
   "execution_count": 161,
   "metadata": {
    "ExecuteTime": {
     "end_time": "2021-01-06T01:15:04.433242Z",
     "start_time": "2021-01-06T01:15:04.427521Z"
    }
   },
   "outputs": [
    {
     "data": {
      "text/plain": [
       "'q'"
      ]
     },
     "execution_count": 161,
     "metadata": {},
     "output_type": "execute_result"
    }
   ],
   "source": [
    "another_data['string'][0][int(another_data['has'][0])]"
   ]
  },
  {
   "cell_type": "code",
   "execution_count": 170,
   "metadata": {
    "ExecuteTime": {
     "end_time": "2021-01-06T01:20:15.997773Z",
     "start_time": "2021-01-06T01:20:15.962169Z"
    }
   },
   "outputs": [],
   "source": [
    "another_data['count_another']=another_data.apply(lambda x: (x['string'][int(x['has'])-1]==x['letter']),axis=1)"
   ]
  },
  {
   "cell_type": "code",
   "execution_count": 171,
   "metadata": {
    "ExecuteTime": {
     "end_time": "2021-01-06T01:20:16.663567Z",
     "start_time": "2021-01-06T01:20:16.657111Z"
    }
   },
   "outputs": [
    {
     "data": {
      "text/plain": [
       "485"
      ]
     },
     "execution_count": 171,
     "metadata": {},
     "output_type": "execute_result"
    }
   ],
   "source": [
    "another_data['count_another'].sum()"
   ]
  },
  {
   "cell_type": "code",
   "execution_count": 172,
   "metadata": {
    "ExecuteTime": {
     "end_time": "2021-01-06T01:20:23.986588Z",
     "start_time": "2021-01-06T01:20:23.970542Z"
    }
   },
   "outputs": [
    {
     "data": {
      "text/html": [
       "<div>\n",
       "<style scoped>\n",
       "    .dataframe tbody tr th:only-of-type {\n",
       "        vertical-align: middle;\n",
       "    }\n",
       "\n",
       "    .dataframe tbody tr th {\n",
       "        vertical-align: top;\n",
       "    }\n",
       "\n",
       "    .dataframe thead th {\n",
       "        text-align: right;\n",
       "    }\n",
       "</style>\n",
       "<table border=\"1\" class=\"dataframe\">\n",
       "  <thead>\n",
       "    <tr style=\"text-align: right;\">\n",
       "      <th></th>\n",
       "      <th>range</th>\n",
       "      <th>letter</th>\n",
       "      <th>string</th>\n",
       "      <th>has</th>\n",
       "      <th>not</th>\n",
       "      <th>count_another</th>\n",
       "    </tr>\n",
       "  </thead>\n",
       "  <tbody>\n",
       "    <tr>\n",
       "      <td>0</td>\n",
       "      <td>15-16</td>\n",
       "      <td>l</td>\n",
       "      <td>klfbblslvjclmlnqklvg</td>\n",
       "      <td>15</td>\n",
       "      <td>16</td>\n",
       "      <td>False</td>\n",
       "    </tr>\n",
       "    <tr>\n",
       "      <td>1</td>\n",
       "      <td>6-13</td>\n",
       "      <td>h</td>\n",
       "      <td>pghjchdxhnjhjd</td>\n",
       "      <td>6</td>\n",
       "      <td>13</td>\n",
       "      <td>True</td>\n",
       "    </tr>\n",
       "    <tr>\n",
       "      <td>2</td>\n",
       "      <td>4-13</td>\n",
       "      <td>n</td>\n",
       "      <td>nnznntzznqnzbtzj</td>\n",
       "      <td>4</td>\n",
       "      <td>13</td>\n",
       "      <td>True</td>\n",
       "    </tr>\n",
       "    <tr>\n",
       "      <td>3</td>\n",
       "      <td>10-16</td>\n",
       "      <td>r</td>\n",
       "      <td>nrrrrkrjtxwrrrwx</td>\n",
       "      <td>10</td>\n",
       "      <td>16</td>\n",
       "      <td>False</td>\n",
       "    </tr>\n",
       "    <tr>\n",
       "      <td>4</td>\n",
       "      <td>1-6</td>\n",
       "      <td>t</td>\n",
       "      <td>rttftttttttttmdttttt</td>\n",
       "      <td>1</td>\n",
       "      <td>6</td>\n",
       "      <td>False</td>\n",
       "    </tr>\n",
       "    <tr>\n",
       "      <td>...</td>\n",
       "      <td>...</td>\n",
       "      <td>...</td>\n",
       "      <td>...</td>\n",
       "      <td>...</td>\n",
       "      <td>...</td>\n",
       "      <td>...</td>\n",
       "    </tr>\n",
       "    <tr>\n",
       "      <td>995</td>\n",
       "      <td>8-12</td>\n",
       "      <td>r</td>\n",
       "      <td>rrkrrrprvrcqnr</td>\n",
       "      <td>8</td>\n",
       "      <td>12</td>\n",
       "      <td>True</td>\n",
       "    </tr>\n",
       "    <tr>\n",
       "      <td>996</td>\n",
       "      <td>14-15</td>\n",
       "      <td>j</td>\n",
       "      <td>jkpjjnjjjwjjjjjjhjwj</td>\n",
       "      <td>14</td>\n",
       "      <td>15</td>\n",
       "      <td>True</td>\n",
       "    </tr>\n",
       "    <tr>\n",
       "      <td>997</td>\n",
       "      <td>7-9</td>\n",
       "      <td>s</td>\n",
       "      <td>stsstspsn</td>\n",
       "      <td>7</td>\n",
       "      <td>9</td>\n",
       "      <td>False</td>\n",
       "    </tr>\n",
       "    <tr>\n",
       "      <td>998</td>\n",
       "      <td>8-11</td>\n",
       "      <td>h</td>\n",
       "      <td>hhhhbhhhhjhhhh</td>\n",
       "      <td>8</td>\n",
       "      <td>11</td>\n",
       "      <td>True</td>\n",
       "    </tr>\n",
       "    <tr>\n",
       "      <td>999</td>\n",
       "      <td>5-6</td>\n",
       "      <td>d</td>\n",
       "      <td>dddtpdd</td>\n",
       "      <td>5</td>\n",
       "      <td>6</td>\n",
       "      <td>False</td>\n",
       "    </tr>\n",
       "  </tbody>\n",
       "</table>\n",
       "<p>1000 rows × 6 columns</p>\n",
       "</div>"
      ],
      "text/plain": [
       "     range letter                string has not  count_another\n",
       "0    15-16      l  klfbblslvjclmlnqklvg  15  16          False\n",
       "1     6-13      h        pghjchdxhnjhjd   6  13           True\n",
       "2     4-13      n      nnznntzznqnzbtzj   4  13           True\n",
       "3    10-16      r      nrrrrkrjtxwrrrwx  10  16          False\n",
       "4      1-6      t  rttftttttttttmdttttt   1   6          False\n",
       "..     ...    ...                   ...  ..  ..            ...\n",
       "995   8-12      r        rrkrrrprvrcqnr   8  12           True\n",
       "996  14-15      j  jkpjjnjjjwjjjjjjhjwj  14  15           True\n",
       "997    7-9      s             stsstspsn   7   9          False\n",
       "998   8-11      h        hhhhbhhhhjhhhh   8  11           True\n",
       "999    5-6      d               dddtpdd   5   6          False\n",
       "\n",
       "[1000 rows x 6 columns]"
      ]
     },
     "execution_count": 172,
     "metadata": {},
     "output_type": "execute_result"
    }
   ],
   "source": [
    "another_data"
   ]
  },
  {
   "cell_type": "code",
   "execution_count": 175,
   "metadata": {
    "ExecuteTime": {
     "end_time": "2021-01-06T01:21:30.776915Z",
     "start_time": "2021-01-06T01:21:30.771615Z"
    }
   },
   "outputs": [
    {
     "data": {
      "text/plain": [
       "'pghjchdxhnjhjd'"
      ]
     },
     "execution_count": 175,
     "metadata": {},
     "output_type": "execute_result"
    }
   ],
   "source": [
    "'pghjchdxhnjhjd'"
   ]
  },
  {
   "cell_type": "code",
   "execution_count": 185,
   "metadata": {
    "ExecuteTime": {
     "end_time": "2021-01-06T01:26:12.134439Z",
     "start_time": "2021-01-06T01:26:12.101602Z"
    }
   },
   "outputs": [],
   "source": [
    "another_data['count_another_not']=another_data.apply(lambda x: (x['string'][int(x['not'])-1]!=x['letter']),axis=1)"
   ]
  },
  {
   "cell_type": "code",
   "execution_count": 186,
   "metadata": {
    "ExecuteTime": {
     "end_time": "2021-01-06T01:26:12.691317Z",
     "start_time": "2021-01-06T01:26:12.684593Z"
    }
   },
   "outputs": [
    {
     "data": {
      "text/plain": [
       "512"
      ]
     },
     "execution_count": 186,
     "metadata": {},
     "output_type": "execute_result"
    }
   ],
   "source": [
    "another_data['count_another_not'].sum()"
   ]
  },
  {
   "cell_type": "code",
   "execution_count": 187,
   "metadata": {
    "ExecuteTime": {
     "end_time": "2021-01-06T01:26:13.615434Z",
     "start_time": "2021-01-06T01:26:13.584967Z"
    }
   },
   "outputs": [
    {
     "data": {
      "text/plain": [
       "372"
      ]
     },
     "execution_count": 187,
     "metadata": {},
     "output_type": "execute_result"
    }
   ],
   "source": [
    "another_data.apply(lambda x: (x['count_another']==True & x['count_another_not']==True),axis=1).sum()"
   ]
  },
  {
   "cell_type": "code",
   "execution_count": null,
   "metadata": {},
   "outputs": [],
   "source": []
  }
 ],
 "metadata": {
  "kernelspec": {
   "display_name": "Python 3",
   "language": "python",
   "name": "python3"
  },
  "language_info": {
   "codemirror_mode": {
    "name": "ipython",
    "version": 3
   },
   "file_extension": ".py",
   "mimetype": "text/x-python",
   "name": "python",
   "nbconvert_exporter": "python",
   "pygments_lexer": "ipython3",
   "version": "3.7.4"
  }
 },
 "nbformat": 4,
 "nbformat_minor": 2
}
