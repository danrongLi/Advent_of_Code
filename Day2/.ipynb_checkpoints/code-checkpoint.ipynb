{
 "cells": [
  {
   "cell_type": "code",
   "execution_count": 1,
   "metadata": {
    "ExecuteTime": {
     "end_time": "2021-01-13T18:20:44.520713Z",
     "start_time": "2021-01-13T18:20:42.973334Z"
    }
   },
   "outputs": [],
   "source": [
    "import pandas as pd"
   ]
  },
  {
   "cell_type": "code",
   "execution_count": 2,
   "metadata": {
    "ExecuteTime": {
     "end_time": "2021-01-13T18:20:44.526677Z",
     "start_time": "2021-01-13T18:20:44.523199Z"
    }
   },
   "outputs": [],
   "source": [
    "f = open(\"passwords.txt\", \"r\")"
   ]
  },
  {
   "cell_type": "code",
   "execution_count": 3,
   "metadata": {
    "ExecuteTime": {
     "end_time": "2021-01-13T18:20:44.533198Z",
     "start_time": "2021-01-13T18:20:44.529722Z"
    }
   },
   "outputs": [],
   "source": [
    "data=f.read()"
   ]
  },
  {
   "cell_type": "code",
   "execution_count": 4,
   "metadata": {
    "ExecuteTime": {
     "end_time": "2021-01-13T18:20:44.538419Z",
     "start_time": "2021-01-13T18:20:44.535628Z"
    }
   },
   "outputs": [],
   "source": [
    "splitted_data=data.split(\"\\n\")"
   ]
  },
  {
   "cell_type": "code",
   "execution_count": 5,
   "metadata": {
    "ExecuteTime": {
     "end_time": "2021-01-13T18:20:44.797808Z",
     "start_time": "2021-01-13T18:20:44.786991Z"
    }
   },
   "outputs": [
    {
     "data": {
      "text/plain": [
       "'15-16 l: klfbblslvjclmlnqklvg'"
      ]
     },
     "execution_count": 5,
     "metadata": {},
     "output_type": "execute_result"
    }
   ],
   "source": [
    "splitted_data[0]"
   ]
  },
  {
   "cell_type": "code",
   "execution_count": 6,
   "metadata": {
    "ExecuteTime": {
     "end_time": "2021-01-13T18:20:45.244329Z",
     "start_time": "2021-01-13T18:20:45.238753Z"
    }
   },
   "outputs": [
    {
     "data": {
      "text/plain": [
       "['15-16 l', 'klfbblslvjclmlnqklvg']"
      ]
     },
     "execution_count": 6,
     "metadata": {},
     "output_type": "execute_result"
    }
   ],
   "source": [
    "'15-16 l: klfbblslvjclmlnqklvg'.split(\": \")"
   ]
  },
  {
   "cell_type": "code",
   "execution_count": 7,
   "metadata": {
    "ExecuteTime": {
     "end_time": "2021-01-13T18:20:45.669278Z",
     "start_time": "2021-01-13T18:20:45.660564Z"
    }
   },
   "outputs": [],
   "source": [
    "data_df=pd.DataFrame(splitted_data).iloc[:-1,-1].str.split(expand=True)"
   ]
  },
  {
   "cell_type": "code",
   "execution_count": 8,
   "metadata": {
    "ExecuteTime": {
     "end_time": "2021-01-13T18:20:46.118672Z",
     "start_time": "2021-01-13T18:20:46.113584Z"
    }
   },
   "outputs": [
    {
     "data": {
      "text/plain": [
       "6"
      ]
     },
     "execution_count": 8,
     "metadata": {},
     "output_type": "execute_result"
    }
   ],
   "source": [
    "data_df[2].values[0].count('l')"
   ]
  },
  {
   "cell_type": "code",
   "execution_count": 9,
   "metadata": {
    "ExecuteTime": {
     "end_time": "2021-01-13T18:20:46.567974Z",
     "start_time": "2021-01-13T18:20:46.563539Z"
    }
   },
   "outputs": [
    {
     "data": {
      "text/plain": [
       "'klfbblslvjclmlnqklvg'"
      ]
     },
     "execution_count": 9,
     "metadata": {},
     "output_type": "execute_result"
    }
   ],
   "source": [
    "data_df[2].values[0]"
   ]
  },
  {
   "cell_type": "code",
   "execution_count": 10,
   "metadata": {
    "ExecuteTime": {
     "end_time": "2021-01-13T18:20:47.026727Z",
     "start_time": "2021-01-13T18:20:47.015297Z"
    }
   },
   "outputs": [],
   "source": [
    "mini_maxi=data_df[0].str.split('-',expand=True)"
   ]
  },
  {
   "cell_type": "code",
   "execution_count": 11,
   "metadata": {
    "ExecuteTime": {
     "end_time": "2021-01-13T18:20:47.447695Z",
     "start_time": "2021-01-13T18:20:47.442756Z"
    }
   },
   "outputs": [],
   "source": [
    "mini_maxi=mini_maxi.rename(columns={0: \"mini\", 1: \"maxi\"})"
   ]
  },
  {
   "cell_type": "code",
   "execution_count": 12,
   "metadata": {
    "ExecuteTime": {
     "end_time": "2021-01-13T18:20:47.850388Z",
     "start_time": "2021-01-13T18:20:47.846111Z"
    }
   },
   "outputs": [],
   "source": [
    "concat_data=pd.concat((data_df,mini_maxi),axis=1)"
   ]
  },
  {
   "cell_type": "code",
   "execution_count": 13,
   "metadata": {
    "ExecuteTime": {
     "end_time": "2021-01-13T18:20:48.284470Z",
     "start_time": "2021-01-13T18:20:48.276328Z"
    }
   },
   "outputs": [],
   "source": [
    "concat_data=concat_data.rename(columns={0: \"range\", 1: \"letter\",2:\"string\"})"
   ]
  },
  {
   "cell_type": "code",
   "execution_count": 14,
   "metadata": {
    "ExecuteTime": {
     "end_time": "2021-01-13T18:20:48.679214Z",
     "start_time": "2021-01-13T18:20:48.665465Z"
    }
   },
   "outputs": [
    {
     "data": {
      "text/html": [
       "<div>\n",
       "<style scoped>\n",
       "    .dataframe tbody tr th:only-of-type {\n",
       "        vertical-align: middle;\n",
       "    }\n",
       "\n",
       "    .dataframe tbody tr th {\n",
       "        vertical-align: top;\n",
       "    }\n",
       "\n",
       "    .dataframe thead th {\n",
       "        text-align: right;\n",
       "    }\n",
       "</style>\n",
       "<table border=\"1\" class=\"dataframe\">\n",
       "  <thead>\n",
       "    <tr style=\"text-align: right;\">\n",
       "      <th></th>\n",
       "      <th>range</th>\n",
       "      <th>letter</th>\n",
       "      <th>string</th>\n",
       "      <th>mini</th>\n",
       "      <th>maxi</th>\n",
       "    </tr>\n",
       "  </thead>\n",
       "  <tbody>\n",
       "    <tr>\n",
       "      <td>0</td>\n",
       "      <td>15-16</td>\n",
       "      <td>l:</td>\n",
       "      <td>klfbblslvjclmlnqklvg</td>\n",
       "      <td>15</td>\n",
       "      <td>16</td>\n",
       "    </tr>\n",
       "    <tr>\n",
       "      <td>1</td>\n",
       "      <td>6-13</td>\n",
       "      <td>h:</td>\n",
       "      <td>pghjchdxhnjhjd</td>\n",
       "      <td>6</td>\n",
       "      <td>13</td>\n",
       "    </tr>\n",
       "    <tr>\n",
       "      <td>2</td>\n",
       "      <td>4-13</td>\n",
       "      <td>n:</td>\n",
       "      <td>nnznntzznqnzbtzj</td>\n",
       "      <td>4</td>\n",
       "      <td>13</td>\n",
       "    </tr>\n",
       "    <tr>\n",
       "      <td>3</td>\n",
       "      <td>10-16</td>\n",
       "      <td>r:</td>\n",
       "      <td>nrrrrkrjtxwrrrwx</td>\n",
       "      <td>10</td>\n",
       "      <td>16</td>\n",
       "    </tr>\n",
       "    <tr>\n",
       "      <td>4</td>\n",
       "      <td>1-6</td>\n",
       "      <td>t:</td>\n",
       "      <td>rttftttttttttmdttttt</td>\n",
       "      <td>1</td>\n",
       "      <td>6</td>\n",
       "    </tr>\n",
       "    <tr>\n",
       "      <td>...</td>\n",
       "      <td>...</td>\n",
       "      <td>...</td>\n",
       "      <td>...</td>\n",
       "      <td>...</td>\n",
       "      <td>...</td>\n",
       "    </tr>\n",
       "    <tr>\n",
       "      <td>995</td>\n",
       "      <td>8-12</td>\n",
       "      <td>r:</td>\n",
       "      <td>rrkrrrprvrcqnr</td>\n",
       "      <td>8</td>\n",
       "      <td>12</td>\n",
       "    </tr>\n",
       "    <tr>\n",
       "      <td>996</td>\n",
       "      <td>14-15</td>\n",
       "      <td>j:</td>\n",
       "      <td>jkpjjnjjjwjjjjjjhjwj</td>\n",
       "      <td>14</td>\n",
       "      <td>15</td>\n",
       "    </tr>\n",
       "    <tr>\n",
       "      <td>997</td>\n",
       "      <td>7-9</td>\n",
       "      <td>s:</td>\n",
       "      <td>stsstspsn</td>\n",
       "      <td>7</td>\n",
       "      <td>9</td>\n",
       "    </tr>\n",
       "    <tr>\n",
       "      <td>998</td>\n",
       "      <td>8-11</td>\n",
       "      <td>h:</td>\n",
       "      <td>hhhhbhhhhjhhhh</td>\n",
       "      <td>8</td>\n",
       "      <td>11</td>\n",
       "    </tr>\n",
       "    <tr>\n",
       "      <td>999</td>\n",
       "      <td>5-6</td>\n",
       "      <td>d:</td>\n",
       "      <td>dddtpdd</td>\n",
       "      <td>5</td>\n",
       "      <td>6</td>\n",
       "    </tr>\n",
       "  </tbody>\n",
       "</table>\n",
       "<p>1000 rows × 5 columns</p>\n",
       "</div>"
      ],
      "text/plain": [
       "     range letter                string mini maxi\n",
       "0    15-16     l:  klfbblslvjclmlnqklvg   15   16\n",
       "1     6-13     h:        pghjchdxhnjhjd    6   13\n",
       "2     4-13     n:      nnznntzznqnzbtzj    4   13\n",
       "3    10-16     r:      nrrrrkrjtxwrrrwx   10   16\n",
       "4      1-6     t:  rttftttttttttmdttttt    1    6\n",
       "..     ...    ...                   ...  ...  ...\n",
       "995   8-12     r:        rrkrrrprvrcqnr    8   12\n",
       "996  14-15     j:  jkpjjnjjjwjjjjjjhjwj   14   15\n",
       "997    7-9     s:             stsstspsn    7    9\n",
       "998   8-11     h:        hhhhbhhhhjhhhh    8   11\n",
       "999    5-6     d:               dddtpdd    5    6\n",
       "\n",
       "[1000 rows x 5 columns]"
      ]
     },
     "execution_count": 14,
     "metadata": {},
     "output_type": "execute_result"
    }
   ],
   "source": [
    "concat_data"
   ]
  },
  {
   "cell_type": "code",
   "execution_count": 15,
   "metadata": {
    "ExecuteTime": {
     "end_time": "2021-01-13T18:20:49.137055Z",
     "start_time": "2021-01-13T18:20:49.131524Z"
    }
   },
   "outputs": [],
   "source": [
    "concat_data['letter']=concat_data['letter'].apply(lambda x: x[0])"
   ]
  },
  {
   "cell_type": "code",
   "execution_count": 16,
   "metadata": {
    "ExecuteTime": {
     "end_time": "2021-01-13T18:20:49.753803Z",
     "start_time": "2021-01-13T18:20:49.739502Z"
    }
   },
   "outputs": [
    {
     "data": {
      "text/html": [
       "<div>\n",
       "<style scoped>\n",
       "    .dataframe tbody tr th:only-of-type {\n",
       "        vertical-align: middle;\n",
       "    }\n",
       "\n",
       "    .dataframe tbody tr th {\n",
       "        vertical-align: top;\n",
       "    }\n",
       "\n",
       "    .dataframe thead th {\n",
       "        text-align: right;\n",
       "    }\n",
       "</style>\n",
       "<table border=\"1\" class=\"dataframe\">\n",
       "  <thead>\n",
       "    <tr style=\"text-align: right;\">\n",
       "      <th></th>\n",
       "      <th>range</th>\n",
       "      <th>letter</th>\n",
       "      <th>string</th>\n",
       "      <th>mini</th>\n",
       "      <th>maxi</th>\n",
       "    </tr>\n",
       "  </thead>\n",
       "  <tbody>\n",
       "    <tr>\n",
       "      <td>0</td>\n",
       "      <td>15-16</td>\n",
       "      <td>l</td>\n",
       "      <td>klfbblslvjclmlnqklvg</td>\n",
       "      <td>15</td>\n",
       "      <td>16</td>\n",
       "    </tr>\n",
       "    <tr>\n",
       "      <td>1</td>\n",
       "      <td>6-13</td>\n",
       "      <td>h</td>\n",
       "      <td>pghjchdxhnjhjd</td>\n",
       "      <td>6</td>\n",
       "      <td>13</td>\n",
       "    </tr>\n",
       "    <tr>\n",
       "      <td>2</td>\n",
       "      <td>4-13</td>\n",
       "      <td>n</td>\n",
       "      <td>nnznntzznqnzbtzj</td>\n",
       "      <td>4</td>\n",
       "      <td>13</td>\n",
       "    </tr>\n",
       "    <tr>\n",
       "      <td>3</td>\n",
       "      <td>10-16</td>\n",
       "      <td>r</td>\n",
       "      <td>nrrrrkrjtxwrrrwx</td>\n",
       "      <td>10</td>\n",
       "      <td>16</td>\n",
       "    </tr>\n",
       "    <tr>\n",
       "      <td>4</td>\n",
       "      <td>1-6</td>\n",
       "      <td>t</td>\n",
       "      <td>rttftttttttttmdttttt</td>\n",
       "      <td>1</td>\n",
       "      <td>6</td>\n",
       "    </tr>\n",
       "    <tr>\n",
       "      <td>...</td>\n",
       "      <td>...</td>\n",
       "      <td>...</td>\n",
       "      <td>...</td>\n",
       "      <td>...</td>\n",
       "      <td>...</td>\n",
       "    </tr>\n",
       "    <tr>\n",
       "      <td>995</td>\n",
       "      <td>8-12</td>\n",
       "      <td>r</td>\n",
       "      <td>rrkrrrprvrcqnr</td>\n",
       "      <td>8</td>\n",
       "      <td>12</td>\n",
       "    </tr>\n",
       "    <tr>\n",
       "      <td>996</td>\n",
       "      <td>14-15</td>\n",
       "      <td>j</td>\n",
       "      <td>jkpjjnjjjwjjjjjjhjwj</td>\n",
       "      <td>14</td>\n",
       "      <td>15</td>\n",
       "    </tr>\n",
       "    <tr>\n",
       "      <td>997</td>\n",
       "      <td>7-9</td>\n",
       "      <td>s</td>\n",
       "      <td>stsstspsn</td>\n",
       "      <td>7</td>\n",
       "      <td>9</td>\n",
       "    </tr>\n",
       "    <tr>\n",
       "      <td>998</td>\n",
       "      <td>8-11</td>\n",
       "      <td>h</td>\n",
       "      <td>hhhhbhhhhjhhhh</td>\n",
       "      <td>8</td>\n",
       "      <td>11</td>\n",
       "    </tr>\n",
       "    <tr>\n",
       "      <td>999</td>\n",
       "      <td>5-6</td>\n",
       "      <td>d</td>\n",
       "      <td>dddtpdd</td>\n",
       "      <td>5</td>\n",
       "      <td>6</td>\n",
       "    </tr>\n",
       "  </tbody>\n",
       "</table>\n",
       "<p>1000 rows × 5 columns</p>\n",
       "</div>"
      ],
      "text/plain": [
       "     range letter                string mini maxi\n",
       "0    15-16      l  klfbblslvjclmlnqklvg   15   16\n",
       "1     6-13      h        pghjchdxhnjhjd    6   13\n",
       "2     4-13      n      nnznntzznqnzbtzj    4   13\n",
       "3    10-16      r      nrrrrkrjtxwrrrwx   10   16\n",
       "4      1-6      t  rttftttttttttmdttttt    1    6\n",
       "..     ...    ...                   ...  ...  ...\n",
       "995   8-12      r        rrkrrrprvrcqnr    8   12\n",
       "996  14-15      j  jkpjjnjjjwjjjjjjhjwj   14   15\n",
       "997    7-9      s             stsstspsn    7    9\n",
       "998   8-11      h        hhhhbhhhhjhhhh    8   11\n",
       "999    5-6      d               dddtpdd    5    6\n",
       "\n",
       "[1000 rows x 5 columns]"
      ]
     },
     "execution_count": 16,
     "metadata": {},
     "output_type": "execute_result"
    }
   ],
   "source": [
    "concat_data"
   ]
  },
  {
   "cell_type": "code",
   "execution_count": 17,
   "metadata": {
    "ExecuteTime": {
     "end_time": "2021-01-13T18:20:50.261650Z",
     "start_time": "2021-01-13T18:20:50.255359Z"
    }
   },
   "outputs": [
    {
     "data": {
      "text/plain": [
       "5"
      ]
     },
     "execution_count": 17,
     "metadata": {},
     "output_type": "execute_result"
    }
   ],
   "source": [
    "concat_data['string'].values[-1].count(concat_data['letter'].values[-1])"
   ]
  },
  {
   "cell_type": "code",
   "execution_count": 18,
   "metadata": {
    "ExecuteTime": {
     "end_time": "2021-01-13T18:20:50.779733Z",
     "start_time": "2021-01-13T18:20:50.773186Z"
    }
   },
   "outputs": [
    {
     "data": {
      "text/plain": [
       "Index(['range', 'letter', 'string', 'mini', 'maxi'], dtype='object')"
      ]
     },
     "execution_count": 18,
     "metadata": {},
     "output_type": "execute_result"
    }
   ],
   "source": [
    "concat_data.columns"
   ]
  },
  {
   "cell_type": "code",
   "execution_count": 19,
   "metadata": {
    "ExecuteTime": {
     "end_time": "2021-01-13T18:20:51.318397Z",
     "start_time": "2021-01-13T18:20:51.288505Z"
    }
   },
   "outputs": [],
   "source": [
    "concat_data['count']=concat_data.apply(lambda x: x['string'].count(x['letter']),axis=1)"
   ]
  },
  {
   "cell_type": "code",
   "execution_count": 20,
   "metadata": {
    "ExecuteTime": {
     "end_time": "2021-01-13T18:20:51.869212Z",
     "start_time": "2021-01-13T18:20:51.853925Z"
    }
   },
   "outputs": [
    {
     "data": {
      "text/html": [
       "<div>\n",
       "<style scoped>\n",
       "    .dataframe tbody tr th:only-of-type {\n",
       "        vertical-align: middle;\n",
       "    }\n",
       "\n",
       "    .dataframe tbody tr th {\n",
       "        vertical-align: top;\n",
       "    }\n",
       "\n",
       "    .dataframe thead th {\n",
       "        text-align: right;\n",
       "    }\n",
       "</style>\n",
       "<table border=\"1\" class=\"dataframe\">\n",
       "  <thead>\n",
       "    <tr style=\"text-align: right;\">\n",
       "      <th></th>\n",
       "      <th>range</th>\n",
       "      <th>letter</th>\n",
       "      <th>string</th>\n",
       "      <th>mini</th>\n",
       "      <th>maxi</th>\n",
       "      <th>count</th>\n",
       "    </tr>\n",
       "  </thead>\n",
       "  <tbody>\n",
       "    <tr>\n",
       "      <td>0</td>\n",
       "      <td>15-16</td>\n",
       "      <td>l</td>\n",
       "      <td>klfbblslvjclmlnqklvg</td>\n",
       "      <td>15</td>\n",
       "      <td>16</td>\n",
       "      <td>6</td>\n",
       "    </tr>\n",
       "    <tr>\n",
       "      <td>1</td>\n",
       "      <td>6-13</td>\n",
       "      <td>h</td>\n",
       "      <td>pghjchdxhnjhjd</td>\n",
       "      <td>6</td>\n",
       "      <td>13</td>\n",
       "      <td>4</td>\n",
       "    </tr>\n",
       "    <tr>\n",
       "      <td>2</td>\n",
       "      <td>4-13</td>\n",
       "      <td>n</td>\n",
       "      <td>nnznntzznqnzbtzj</td>\n",
       "      <td>4</td>\n",
       "      <td>13</td>\n",
       "      <td>6</td>\n",
       "    </tr>\n",
       "    <tr>\n",
       "      <td>3</td>\n",
       "      <td>10-16</td>\n",
       "      <td>r</td>\n",
       "      <td>nrrrrkrjtxwrrrwx</td>\n",
       "      <td>10</td>\n",
       "      <td>16</td>\n",
       "      <td>8</td>\n",
       "    </tr>\n",
       "    <tr>\n",
       "      <td>4</td>\n",
       "      <td>1-6</td>\n",
       "      <td>t</td>\n",
       "      <td>rttftttttttttmdttttt</td>\n",
       "      <td>1</td>\n",
       "      <td>6</td>\n",
       "      <td>16</td>\n",
       "    </tr>\n",
       "    <tr>\n",
       "      <td>...</td>\n",
       "      <td>...</td>\n",
       "      <td>...</td>\n",
       "      <td>...</td>\n",
       "      <td>...</td>\n",
       "      <td>...</td>\n",
       "      <td>...</td>\n",
       "    </tr>\n",
       "    <tr>\n",
       "      <td>995</td>\n",
       "      <td>8-12</td>\n",
       "      <td>r</td>\n",
       "      <td>rrkrrrprvrcqnr</td>\n",
       "      <td>8</td>\n",
       "      <td>12</td>\n",
       "      <td>8</td>\n",
       "    </tr>\n",
       "    <tr>\n",
       "      <td>996</td>\n",
       "      <td>14-15</td>\n",
       "      <td>j</td>\n",
       "      <td>jkpjjnjjjwjjjjjjhjwj</td>\n",
       "      <td>14</td>\n",
       "      <td>15</td>\n",
       "      <td>14</td>\n",
       "    </tr>\n",
       "    <tr>\n",
       "      <td>997</td>\n",
       "      <td>7-9</td>\n",
       "      <td>s</td>\n",
       "      <td>stsstspsn</td>\n",
       "      <td>7</td>\n",
       "      <td>9</td>\n",
       "      <td>5</td>\n",
       "    </tr>\n",
       "    <tr>\n",
       "      <td>998</td>\n",
       "      <td>8-11</td>\n",
       "      <td>h</td>\n",
       "      <td>hhhhbhhhhjhhhh</td>\n",
       "      <td>8</td>\n",
       "      <td>11</td>\n",
       "      <td>12</td>\n",
       "    </tr>\n",
       "    <tr>\n",
       "      <td>999</td>\n",
       "      <td>5-6</td>\n",
       "      <td>d</td>\n",
       "      <td>dddtpdd</td>\n",
       "      <td>5</td>\n",
       "      <td>6</td>\n",
       "      <td>5</td>\n",
       "    </tr>\n",
       "  </tbody>\n",
       "</table>\n",
       "<p>1000 rows × 6 columns</p>\n",
       "</div>"
      ],
      "text/plain": [
       "     range letter                string mini maxi  count\n",
       "0    15-16      l  klfbblslvjclmlnqklvg   15   16      6\n",
       "1     6-13      h        pghjchdxhnjhjd    6   13      4\n",
       "2     4-13      n      nnznntzznqnzbtzj    4   13      6\n",
       "3    10-16      r      nrrrrkrjtxwrrrwx   10   16      8\n",
       "4      1-6      t  rttftttttttttmdttttt    1    6     16\n",
       "..     ...    ...                   ...  ...  ...    ...\n",
       "995   8-12      r        rrkrrrprvrcqnr    8   12      8\n",
       "996  14-15      j  jkpjjnjjjwjjjjjjhjwj   14   15     14\n",
       "997    7-9      s             stsstspsn    7    9      5\n",
       "998   8-11      h        hhhhbhhhhjhhhh    8   11     12\n",
       "999    5-6      d               dddtpdd    5    6      5\n",
       "\n",
       "[1000 rows x 6 columns]"
      ]
     },
     "execution_count": 20,
     "metadata": {},
     "output_type": "execute_result"
    }
   ],
   "source": [
    "concat_data"
   ]
  },
  {
   "cell_type": "code",
   "execution_count": 21,
   "metadata": {
    "ExecuteTime": {
     "end_time": "2021-01-13T18:20:52.364512Z",
     "start_time": "2021-01-13T18:20:52.322079Z"
    }
   },
   "outputs": [],
   "source": [
    "concat_data['valid']=concat_data.apply(lambda x: (x['count']>=int(x['mini']))&(x['count']<=int(x['maxi'])),axis=1)"
   ]
  },
  {
   "cell_type": "code",
   "execution_count": 22,
   "metadata": {
    "ExecuteTime": {
     "end_time": "2021-01-13T18:20:52.986465Z",
     "start_time": "2021-01-13T18:20:52.979114Z"
    }
   },
   "outputs": [
    {
     "data": {
      "text/plain": [
       "424"
      ]
     },
     "execution_count": 22,
     "metadata": {},
     "output_type": "execute_result"
    }
   ],
   "source": [
    "concat_data['valid'].sum()"
   ]
  },
  {
   "cell_type": "markdown",
   "metadata": {},
   "source": [
    "Part 2"
   ]
  },
  {
   "cell_type": "code",
   "execution_count": 23,
   "metadata": {
    "ExecuteTime": {
     "end_time": "2021-01-13T18:20:54.985010Z",
     "start_time": "2021-01-13T18:20:54.980675Z"
    }
   },
   "outputs": [],
   "source": [
    "another_data=concat_data.copy()"
   ]
  },
  {
   "cell_type": "code",
   "execution_count": 24,
   "metadata": {
    "ExecuteTime": {
     "end_time": "2021-01-13T18:20:55.480831Z",
     "start_time": "2021-01-13T18:20:55.476757Z"
    }
   },
   "outputs": [],
   "source": [
    "another_data=another_data.iloc[:,:-2]"
   ]
  },
  {
   "cell_type": "code",
   "execution_count": 25,
   "metadata": {
    "ExecuteTime": {
     "end_time": "2021-01-13T18:20:55.930084Z",
     "start_time": "2021-01-13T18:20:55.925257Z"
    }
   },
   "outputs": [],
   "source": [
    "another_data=another_data.rename(columns={\"mini\": \"has\", \"maxi\": \"not\"})"
   ]
  },
  {
   "cell_type": "code",
   "execution_count": 26,
   "metadata": {
    "ExecuteTime": {
     "end_time": "2021-01-13T18:20:56.480571Z",
     "start_time": "2021-01-13T18:20:56.466958Z"
    }
   },
   "outputs": [
    {
     "data": {
      "text/html": [
       "<div>\n",
       "<style scoped>\n",
       "    .dataframe tbody tr th:only-of-type {\n",
       "        vertical-align: middle;\n",
       "    }\n",
       "\n",
       "    .dataframe tbody tr th {\n",
       "        vertical-align: top;\n",
       "    }\n",
       "\n",
       "    .dataframe thead th {\n",
       "        text-align: right;\n",
       "    }\n",
       "</style>\n",
       "<table border=\"1\" class=\"dataframe\">\n",
       "  <thead>\n",
       "    <tr style=\"text-align: right;\">\n",
       "      <th></th>\n",
       "      <th>range</th>\n",
       "      <th>letter</th>\n",
       "      <th>string</th>\n",
       "      <th>has</th>\n",
       "      <th>not</th>\n",
       "    </tr>\n",
       "  </thead>\n",
       "  <tbody>\n",
       "    <tr>\n",
       "      <td>0</td>\n",
       "      <td>15-16</td>\n",
       "      <td>l</td>\n",
       "      <td>klfbblslvjclmlnqklvg</td>\n",
       "      <td>15</td>\n",
       "      <td>16</td>\n",
       "    </tr>\n",
       "    <tr>\n",
       "      <td>1</td>\n",
       "      <td>6-13</td>\n",
       "      <td>h</td>\n",
       "      <td>pghjchdxhnjhjd</td>\n",
       "      <td>6</td>\n",
       "      <td>13</td>\n",
       "    </tr>\n",
       "    <tr>\n",
       "      <td>2</td>\n",
       "      <td>4-13</td>\n",
       "      <td>n</td>\n",
       "      <td>nnznntzznqnzbtzj</td>\n",
       "      <td>4</td>\n",
       "      <td>13</td>\n",
       "    </tr>\n",
       "    <tr>\n",
       "      <td>3</td>\n",
       "      <td>10-16</td>\n",
       "      <td>r</td>\n",
       "      <td>nrrrrkrjtxwrrrwx</td>\n",
       "      <td>10</td>\n",
       "      <td>16</td>\n",
       "    </tr>\n",
       "    <tr>\n",
       "      <td>4</td>\n",
       "      <td>1-6</td>\n",
       "      <td>t</td>\n",
       "      <td>rttftttttttttmdttttt</td>\n",
       "      <td>1</td>\n",
       "      <td>6</td>\n",
       "    </tr>\n",
       "    <tr>\n",
       "      <td>...</td>\n",
       "      <td>...</td>\n",
       "      <td>...</td>\n",
       "      <td>...</td>\n",
       "      <td>...</td>\n",
       "      <td>...</td>\n",
       "    </tr>\n",
       "    <tr>\n",
       "      <td>995</td>\n",
       "      <td>8-12</td>\n",
       "      <td>r</td>\n",
       "      <td>rrkrrrprvrcqnr</td>\n",
       "      <td>8</td>\n",
       "      <td>12</td>\n",
       "    </tr>\n",
       "    <tr>\n",
       "      <td>996</td>\n",
       "      <td>14-15</td>\n",
       "      <td>j</td>\n",
       "      <td>jkpjjnjjjwjjjjjjhjwj</td>\n",
       "      <td>14</td>\n",
       "      <td>15</td>\n",
       "    </tr>\n",
       "    <tr>\n",
       "      <td>997</td>\n",
       "      <td>7-9</td>\n",
       "      <td>s</td>\n",
       "      <td>stsstspsn</td>\n",
       "      <td>7</td>\n",
       "      <td>9</td>\n",
       "    </tr>\n",
       "    <tr>\n",
       "      <td>998</td>\n",
       "      <td>8-11</td>\n",
       "      <td>h</td>\n",
       "      <td>hhhhbhhhhjhhhh</td>\n",
       "      <td>8</td>\n",
       "      <td>11</td>\n",
       "    </tr>\n",
       "    <tr>\n",
       "      <td>999</td>\n",
       "      <td>5-6</td>\n",
       "      <td>d</td>\n",
       "      <td>dddtpdd</td>\n",
       "      <td>5</td>\n",
       "      <td>6</td>\n",
       "    </tr>\n",
       "  </tbody>\n",
       "</table>\n",
       "<p>1000 rows × 5 columns</p>\n",
       "</div>"
      ],
      "text/plain": [
       "     range letter                string has not\n",
       "0    15-16      l  klfbblslvjclmlnqklvg  15  16\n",
       "1     6-13      h        pghjchdxhnjhjd   6  13\n",
       "2     4-13      n      nnznntzznqnzbtzj   4  13\n",
       "3    10-16      r      nrrrrkrjtxwrrrwx  10  16\n",
       "4      1-6      t  rttftttttttttmdttttt   1   6\n",
       "..     ...    ...                   ...  ..  ..\n",
       "995   8-12      r        rrkrrrprvrcqnr   8  12\n",
       "996  14-15      j  jkpjjnjjjwjjjjjjhjwj  14  15\n",
       "997    7-9      s             stsstspsn   7   9\n",
       "998   8-11      h        hhhhbhhhhjhhhh   8  11\n",
       "999    5-6      d               dddtpdd   5   6\n",
       "\n",
       "[1000 rows x 5 columns]"
      ]
     },
     "execution_count": 26,
     "metadata": {},
     "output_type": "execute_result"
    }
   ],
   "source": [
    "another_data"
   ]
  },
  {
   "cell_type": "code",
   "execution_count": 28,
   "metadata": {
    "ExecuteTime": {
     "end_time": "2021-01-13T18:24:09.223871Z",
     "start_time": "2021-01-13T18:24:09.218975Z"
    }
   },
   "outputs": [
    {
     "data": {
      "text/plain": [
       "'k'"
      ]
     },
     "execution_count": 28,
     "metadata": {},
     "output_type": "execute_result"
    }
   ],
   "source": [
    "another_data['string'][0][15+1]"
   ]
  },
  {
   "cell_type": "code",
   "execution_count": 40,
   "metadata": {
    "ExecuteTime": {
     "end_time": "2021-01-13T18:31:23.620722Z",
     "start_time": "2021-01-13T18:31:23.616257Z"
    }
   },
   "outputs": [],
   "source": [
    "def find_has(x):\n",
    "    try:\n",
    "        a=x['string'][int(x['has'])+1]\n",
    "        return a\n",
    "    except:\n",
    "        return False"
   ]
  },
  {
   "cell_type": "code",
   "execution_count": 42,
   "metadata": {
    "ExecuteTime": {
     "end_time": "2021-01-13T18:32:03.149178Z",
     "start_time": "2021-01-13T18:32:03.121902Z"
    }
   },
   "outputs": [],
   "source": [
    "another_data['find_has']=another_data.apply(find_has,axis=1)"
   ]
  },
  {
   "cell_type": "code",
   "execution_count": 43,
   "metadata": {
    "ExecuteTime": {
     "end_time": "2021-01-13T18:32:28.844233Z",
     "start_time": "2021-01-13T18:32:28.839739Z"
    }
   },
   "outputs": [],
   "source": [
    "def find_not(x):\n",
    "    try:\n",
    "        a=x['string'][int(x['not'])+1]\n",
    "        return a\n",
    "    except:\n",
    "        return False"
   ]
  },
  {
   "cell_type": "code",
   "execution_count": 44,
   "metadata": {
    "ExecuteTime": {
     "end_time": "2021-01-13T18:32:41.018209Z",
     "start_time": "2021-01-13T18:32:40.987939Z"
    }
   },
   "outputs": [],
   "source": [
    "another_data['find_not']=another_data.apply(find_not,axis=1)"
   ]
  },
  {
   "cell_type": "code",
   "execution_count": 45,
   "metadata": {
    "ExecuteTime": {
     "end_time": "2021-01-13T18:32:44.852028Z",
     "start_time": "2021-01-13T18:32:44.835557Z"
    }
   },
   "outputs": [
    {
     "data": {
      "text/html": [
       "<div>\n",
       "<style scoped>\n",
       "    .dataframe tbody tr th:only-of-type {\n",
       "        vertical-align: middle;\n",
       "    }\n",
       "\n",
       "    .dataframe tbody tr th {\n",
       "        vertical-align: top;\n",
       "    }\n",
       "\n",
       "    .dataframe thead th {\n",
       "        text-align: right;\n",
       "    }\n",
       "</style>\n",
       "<table border=\"1\" class=\"dataframe\">\n",
       "  <thead>\n",
       "    <tr style=\"text-align: right;\">\n",
       "      <th></th>\n",
       "      <th>range</th>\n",
       "      <th>letter</th>\n",
       "      <th>string</th>\n",
       "      <th>has</th>\n",
       "      <th>not</th>\n",
       "      <th>find_has</th>\n",
       "      <th>find_not</th>\n",
       "    </tr>\n",
       "  </thead>\n",
       "  <tbody>\n",
       "    <tr>\n",
       "      <td>0</td>\n",
       "      <td>15-16</td>\n",
       "      <td>l</td>\n",
       "      <td>klfbblslvjclmlnqklvg</td>\n",
       "      <td>15</td>\n",
       "      <td>16</td>\n",
       "      <td>k</td>\n",
       "      <td>l</td>\n",
       "    </tr>\n",
       "    <tr>\n",
       "      <td>1</td>\n",
       "      <td>6-13</td>\n",
       "      <td>h</td>\n",
       "      <td>pghjchdxhnjhjd</td>\n",
       "      <td>6</td>\n",
       "      <td>13</td>\n",
       "      <td>x</td>\n",
       "      <td>False</td>\n",
       "    </tr>\n",
       "    <tr>\n",
       "      <td>2</td>\n",
       "      <td>4-13</td>\n",
       "      <td>n</td>\n",
       "      <td>nnznntzznqnzbtzj</td>\n",
       "      <td>4</td>\n",
       "      <td>13</td>\n",
       "      <td>t</td>\n",
       "      <td>z</td>\n",
       "    </tr>\n",
       "    <tr>\n",
       "      <td>3</td>\n",
       "      <td>10-16</td>\n",
       "      <td>r</td>\n",
       "      <td>nrrrrkrjtxwrrrwx</td>\n",
       "      <td>10</td>\n",
       "      <td>16</td>\n",
       "      <td>r</td>\n",
       "      <td>False</td>\n",
       "    </tr>\n",
       "    <tr>\n",
       "      <td>4</td>\n",
       "      <td>1-6</td>\n",
       "      <td>t</td>\n",
       "      <td>rttftttttttttmdttttt</td>\n",
       "      <td>1</td>\n",
       "      <td>6</td>\n",
       "      <td>t</td>\n",
       "      <td>t</td>\n",
       "    </tr>\n",
       "    <tr>\n",
       "      <td>...</td>\n",
       "      <td>...</td>\n",
       "      <td>...</td>\n",
       "      <td>...</td>\n",
       "      <td>...</td>\n",
       "      <td>...</td>\n",
       "      <td>...</td>\n",
       "      <td>...</td>\n",
       "    </tr>\n",
       "    <tr>\n",
       "      <td>995</td>\n",
       "      <td>8-12</td>\n",
       "      <td>r</td>\n",
       "      <td>rrkrrrprvrcqnr</td>\n",
       "      <td>8</td>\n",
       "      <td>12</td>\n",
       "      <td>r</td>\n",
       "      <td>r</td>\n",
       "    </tr>\n",
       "    <tr>\n",
       "      <td>996</td>\n",
       "      <td>14-15</td>\n",
       "      <td>j</td>\n",
       "      <td>jkpjjnjjjwjjjjjjhjwj</td>\n",
       "      <td>14</td>\n",
       "      <td>15</td>\n",
       "      <td>j</td>\n",
       "      <td>h</td>\n",
       "    </tr>\n",
       "    <tr>\n",
       "      <td>997</td>\n",
       "      <td>7-9</td>\n",
       "      <td>s</td>\n",
       "      <td>stsstspsn</td>\n",
       "      <td>7</td>\n",
       "      <td>9</td>\n",
       "      <td>n</td>\n",
       "      <td>False</td>\n",
       "    </tr>\n",
       "    <tr>\n",
       "      <td>998</td>\n",
       "      <td>8-11</td>\n",
       "      <td>h</td>\n",
       "      <td>hhhhbhhhhjhhhh</td>\n",
       "      <td>8</td>\n",
       "      <td>11</td>\n",
       "      <td>j</td>\n",
       "      <td>h</td>\n",
       "    </tr>\n",
       "    <tr>\n",
       "      <td>999</td>\n",
       "      <td>5-6</td>\n",
       "      <td>d</td>\n",
       "      <td>dddtpdd</td>\n",
       "      <td>5</td>\n",
       "      <td>6</td>\n",
       "      <td>d</td>\n",
       "      <td>False</td>\n",
       "    </tr>\n",
       "  </tbody>\n",
       "</table>\n",
       "<p>1000 rows × 7 columns</p>\n",
       "</div>"
      ],
      "text/plain": [
       "     range letter                string has not find_has find_not\n",
       "0    15-16      l  klfbblslvjclmlnqklvg  15  16        k        l\n",
       "1     6-13      h        pghjchdxhnjhjd   6  13        x    False\n",
       "2     4-13      n      nnznntzznqnzbtzj   4  13        t        z\n",
       "3    10-16      r      nrrrrkrjtxwrrrwx  10  16        r    False\n",
       "4      1-6      t  rttftttttttttmdttttt   1   6        t        t\n",
       "..     ...    ...                   ...  ..  ..      ...      ...\n",
       "995   8-12      r        rrkrrrprvrcqnr   8  12        r        r\n",
       "996  14-15      j  jkpjjnjjjwjjjjjjhjwj  14  15        j        h\n",
       "997    7-9      s             stsstspsn   7   9        n    False\n",
       "998   8-11      h        hhhhbhhhhjhhhh   8  11        j        h\n",
       "999    5-6      d               dddtpdd   5   6        d    False\n",
       "\n",
       "[1000 rows x 7 columns]"
      ]
     },
     "execution_count": 45,
     "metadata": {},
     "output_type": "execute_result"
    }
   ],
   "source": [
    "another_data"
   ]
  },
  {
   "cell_type": "code",
   "execution_count": 46,
   "metadata": {
    "ExecuteTime": {
     "end_time": "2021-01-13T18:34:27.030314Z",
     "start_time": "2021-01-13T18:34:27.025588Z"
    }
   },
   "outputs": [],
   "source": [
    "def find_result(x):\n",
    "    if ((x['letter']==x['find_has'])&(x['letter']!=x['find_not'])):\n",
    "        return True\n",
    "    return False"
   ]
  },
  {
   "cell_type": "code",
   "execution_count": 48,
   "metadata": {
    "ExecuteTime": {
     "end_time": "2021-01-13T18:34:54.652158Z",
     "start_time": "2021-01-13T18:34:54.611259Z"
    }
   },
   "outputs": [
    {
     "data": {
      "text/plain": [
       "295"
      ]
     },
     "execution_count": 48,
     "metadata": {},
     "output_type": "execute_result"
    }
   ],
   "source": [
    "sum(another_data.apply(find_result,axis=1))"
   ]
  },
  {
   "cell_type": "markdown",
   "metadata": {},
   "source": [
    "reddit solution"
   ]
  },
  {
   "cell_type": "code",
   "execution_count": 50,
   "metadata": {
    "ExecuteTime": {
     "end_time": "2021-01-13T18:42:58.339548Z",
     "start_time": "2021-01-13T18:42:58.322801Z"
    }
   },
   "outputs": [
    {
     "name": "stdout",
     "output_type": "stream",
     "text": [
      "424\n",
      "747\n"
     ]
    }
   ],
   "source": [
    "r = open(\"passwords.txt\").read().strip('\\n')\n",
    "import re\n",
    "input = [[int(y) if y.isdigit() else y for y in re.split('-| |: ',line)] for line in r.splitlines()]\n",
    "\n",
    "#Part 1\n",
    "valid = 0\n",
    "for entry in input:\n",
    "    if entry[0] <= entry[3].count(entry[2]) <= entry[1]:\n",
    "        valid = valid + 1\n",
    "\n",
    "print(valid)\n",
    "\n",
    "#Part 2\n",
    "valid = 0\n",
    "for entry in input:\n",
    "    if (entry[3][entry[0]-1] == entry[2]) != (entry[3][entry[1]-1] == entry[2]):\n",
    "        valid = valid + 1\n",
    "\n",
    "print(valid)"
   ]
  },
  {
   "cell_type": "code",
   "execution_count": null,
   "metadata": {},
   "outputs": [],
   "source": []
  }
 ],
 "metadata": {
  "kernelspec": {
   "display_name": "Python 3",
   "language": "python",
   "name": "python3"
  },
  "language_info": {
   "codemirror_mode": {
    "name": "ipython",
    "version": 3
   },
   "file_extension": ".py",
   "mimetype": "text/x-python",
   "name": "python",
   "nbconvert_exporter": "python",
   "pygments_lexer": "ipython3",
   "version": "3.7.4"
  }
 },
 "nbformat": 4,
 "nbformat_minor": 2
}
